{
 "cells": [
  {
   "cell_type": "markdown",
   "metadata": {},
   "source": [
    "# Test and example of motion_streaming.py"
   ]
  },
  {
   "cell_type": "markdown",
   "metadata": {},
   "source": [
    "This notebook provides an example for using motion_streaming.py which is adapted from motion.py in trackpy repository. \n",
    "It containes drift calcuation, drift substraction and MSD calculation for the HDF5 file format (here we use PandasHDFStoreSingleNode)."
   ]
  },
  {
   "cell_type": "markdown",
   "metadata": {},
   "source": [
    "### Import related Python libraries"
   ]
  },
  {
   "cell_type": "code",
   "execution_count": 13,
   "metadata": {
    "collapsed": false
   },
   "outputs": [],
   "source": [
    "import trackpy as tp"
   ]
  },
  {
   "cell_type": "code",
   "execution_count": 9,
   "metadata": {
    "collapsed": true
   },
   "outputs": [],
   "source": []
  },
  {
   "cell_type": "code",
   "execution_count": 10,
   "metadata": {
    "collapsed": false
   },
   "outputs": [
    {
     "data": {
      "text/plain": [
       "['',\n",
       " '/home/nklongvessa',\n",
       " '/data2/Ong/src/trackpy',\n",
       " '/data2/anaconda3/lib/python35.zip',\n",
       " '/data2/anaconda3/lib/python3.5',\n",
       " '/data2/anaconda3/lib/python3.5/plat-linux',\n",
       " '/data2/anaconda3/lib/python3.5/lib-dynload',\n",
       " '/data2/anaconda3/lib/python3.5/site-packages',\n",
       " '/data2/anaconda3/lib/python3.5/site-packages/Sphinx-1.5.1-py3.5.egg',\n",
       " '/data2/anaconda3/lib/python3.5/site-packages/setuptools-27.2.0-py3.5.egg',\n",
       " '/data2/anaconda3/lib/python3.5/site-packages/slicerator-0.9.7-py3.5.egg',\n",
       " '/data2/anaconda3/lib/python3.5/site-packages/IPython/extensions',\n",
       " '/home/nklongvessa/.ipython']"
      ]
     },
     "execution_count": 10,
     "metadata": {},
     "output_type": "execute_result"
    }
   ],
   "source": [
    "sys.path"
   ]
  },
  {
   "cell_type": "code",
   "execution_count": null,
   "metadata": {
    "collapsed": true
   },
   "outputs": [],
   "source": []
  }
 ],
 "metadata": {
  "kernelspec": {
   "display_name": "Python [default]",
   "language": "python",
   "name": "python3"
  },
  "language_info": {
   "codemirror_mode": {
    "name": "ipython",
    "version": 3
   },
   "file_extension": ".py",
   "mimetype": "text/x-python",
   "name": "python",
   "nbconvert_exporter": "python",
   "pygments_lexer": "ipython3",
   "version": "3.5.2"
  }
 },
 "nbformat": 4,
 "nbformat_minor": 2
}
